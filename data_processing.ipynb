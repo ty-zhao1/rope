{
 "cells": [
  {
   "cell_type": "code",
   "execution_count": 25,
   "metadata": {},
   "outputs": [],
   "source": [
    "import os\n",
    "import shutil\n",
    "from PIL import Image"
   ]
  },
  {
   "cell_type": "code",
   "execution_count": 12,
   "metadata": {},
   "outputs": [],
   "source": [
    "base_dir = '10Knots'"
   ]
  },
  {
   "cell_type": "code",
   "execution_count": null,
   "metadata": {},
   "outputs": [
    {
     "name": "stdout",
     "output_type": "stream",
     "text": [
      "Contents have been successfully combined and subfolders removed.\n"
     ]
    }
   ],
   "source": [
    "# This code will combine the contents of the subfolders into the parent folder and remove the subfolders\n",
    "for folder in os.listdir(base_dir):\n",
    "    folder_path = os.path.join(base_dir, folder)\n",
    "    if os.path.isdir(folder_path):\n",
    "        for subfolder in os.listdir(folder_path):\n",
    "            subfolder_path = os.path.join(folder_path, subfolder)\n",
    "            if os.path.isdir(subfolder_path):\n",
    "                for sub_subfolder in os.listdir(subfolder_path):\n",
    "                    sub_subfolder_path = os.path.join(subfolder_path, sub_subfolder)\n",
    "                    if os.path.isdir(sub_subfolder_path):\n",
    "                        for file in os.listdir(sub_subfolder_path):\n",
    "                            file_path = os.path.join(sub_subfolder_path, file)\n",
    "                            shutil.move(file_path, folder_path)\n",
    "                        os.rmdir(sub_subfolder_path)\n",
    "\n",
    "                os.rmdir(subfolder_path)\n",
    "\n",
    "print(\"Contents have been successfully combined and subfolders removed.\")"
   ]
  }
 ],
 "metadata": {
  "kernelspec": {
   "display_name": "base",
   "language": "python",
   "name": "python3"
  },
  "language_info": {
   "codemirror_mode": {
    "name": "ipython",
    "version": 3
   },
   "file_extension": ".py",
   "mimetype": "text/x-python",
   "name": "python",
   "nbconvert_exporter": "python",
   "pygments_lexer": "ipython3",
   "version": "3.8.5"
  }
 },
 "nbformat": 4,
 "nbformat_minor": 2
}
