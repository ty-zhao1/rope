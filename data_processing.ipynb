{
 "cells": [
  {
   "cell_type": "code",
   "execution_count": 25,
   "metadata": {},
   "outputs": [],
   "source": [
    "import os\n",
    "import shutil\n",
    "from PIL import Image"
   ]
  },
  {
   "cell_type": "code",
   "execution_count": 12,
   "metadata": {},
   "outputs": [],
   "source": [
    "base_dir = '10Knots'"
   ]
  },
  {
   "cell_type": "code",
   "execution_count": 15,
   "metadata": {},
   "outputs": [
    {
     "name": "stdout",
     "output_type": "stream",
     "text": [
      "Contents have been successfully combined and subfolders removed.\n"
     ]
    }
   ],
   "source": [
    "# Iterate over each folder in the base directory\n",
    "for folder in os.listdir(base_dir):\n",
    "    folder_path = os.path.join(base_dir, folder)\n",
    "\n",
    "    # Check if it is indeed a directory\n",
    "    if os.path.isdir(folder_path):\n",
    "        # Iterate over the first level of subfolders\n",
    "        for subfolder in os.listdir(folder_path):\n",
    "            subfolder_path = os.path.join(folder_path, subfolder)\n",
    "\n",
    "            # Check if it's a directory before processing\n",
    "            if os.path.isdir(subfolder_path):\n",
    "                # Iterate over the second level of subfolders (sub-subfolders)\n",
    "                for sub_subfolder in os.listdir(subfolder_path):\n",
    "                    sub_subfolder_path = os.path.join(subfolder_path, sub_subfolder)\n",
    "\n",
    "                    # Check if it's a directory before processing\n",
    "                    if os.path.isdir(sub_subfolder_path):\n",
    "                        # Move each file in the sub-subfolder to the top-level parent folder\n",
    "                        for file in os.listdir(sub_subfolder_path):\n",
    "                            file_path = os.path.join(sub_subfolder_path, file)\n",
    "                            shutil.move(file_path, folder_path)\n",
    "\n",
    "                        # Remove the empty sub-subfolder\n",
    "                        os.rmdir(sub_subfolder_path)\n",
    "\n",
    "                # Remove the now-empty first-level subfolder\n",
    "                os.rmdir(subfolder_path)\n",
    "\n",
    "print(\"Contents have been successfully combined and subfolders removed.\")"
   ]
  },
  {
   "cell_type": "code",
   "execution_count": 23,
   "metadata": {},
   "outputs": [
    {
     "name": "stdout",
     "output_type": "stream",
     "text": [
      "Unique image dimensions:  {(5184, 3456)}\n"
     ]
    }
   ],
   "source": [
    "# get the set of dimensions for all the images\n",
    "sizes = set()\n",
    "for folder in os.listdir(base_dir):\n",
    "    if folder == '.DS_Store':\n",
    "        continue\n",
    "    folder_path = os.path.join(base_dir, folder)\n",
    "    for file in os.listdir(folder_path):\n",
    "        file_path = os.path.join(folder_path, file)\n",
    "        if os.path.isfile(file_path):\n",
    "            with Image.open(file_path) as img:\n",
    "                # Get the dimensions\n",
    "                width, height = img.size\n",
    "                sizes.add((width, height))\n",
    "\n",
    "print(\"Unique image dimensions: \", sizes)"
   ]
  }
 ],
 "metadata": {
  "kernelspec": {
   "display_name": "base",
   "language": "python",
   "name": "python3"
  },
  "language_info": {
   "codemirror_mode": {
    "name": "ipython",
    "version": 3
   },
   "file_extension": ".py",
   "mimetype": "text/x-python",
   "name": "python",
   "nbconvert_exporter": "python",
   "pygments_lexer": "ipython3",
   "version": "3.8.5"
  }
 },
 "nbformat": 4,
 "nbformat_minor": 2
}
